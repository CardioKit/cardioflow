{
 "cells": [
  {
   "cell_type": "markdown",
   "id": "3e653e44-993b-43a7-b7c4-e11b7d7491d0",
   "metadata": {},
   "source": [
    "# Cross-Device Federated Unsupervised Learning of Electrocardiogram Signals\n",
    "\n",
    "This is the analysis script of the results of the federated learning and on-device fine-tuning (personalized) routines exported from the mobile devices to the results folder."
   ]
  },
  {
   "cell_type": "code",
   "execution_count": null,
   "id": "b3cd476f-880b-4ece-aa41-6554afc9e480",
   "metadata": {},
   "outputs": [],
   "source": [
    "import glob\n",
    "import numpy as np\n",
    "import pandas as pd\n",
    "import matplotlib.pyplot as plt\n",
    "import seaborn as sns\n",
    "from sklearn import metrics\n",
    "from sklearn.decomposition import PCA\n",
    "from sklearn.manifold import TSNE"
   ]
  },
  {
   "cell_type": "markdown",
   "id": "a13d435d-9e67-4b0b-8469-4ab3f187d490",
   "metadata": {},
   "source": [
    "## 1. Loading of the Data"
   ]
  },
  {
   "cell_type": "code",
   "execution_count": null,
   "id": "17bf7d0d-3329-4124-b2e2-6caf92d61321",
   "metadata": {},
   "outputs": [],
   "source": [
    "pd.set_option('future.no_silent_downcasting', True)"
   ]
  },
  {
   "cell_type": "code",
   "execution_count": null,
   "id": "09ae8aad-5d3f-4577-bbe5-042ddcc8cc23",
   "metadata": {},
   "outputs": [],
   "source": [
    "def load_results(path, standardize=True):\n",
    "    \n",
    "    df = pd.DataFrame()\n",
    "    \n",
    "    for file in glob.glob(path + \"*.csv\"):\n",
    "        temp = pd.read_csv(file, header=None)\n",
    "        temp.columns = [\"segment\", \"quality\", \"groundtruth\", \"residual\", \"embedding\"]\n",
    "        temp[\"device\"] = file.rsplit('/', 1)[-1][:-4]\n",
    "\n",
    "        temp_ = temp['embedding'].str.split(';', expand=True)\n",
    "        col_names_embedding = [f'lvsd_{i+1}' for i in range(temp_.shape[1])]\n",
    "    \n",
    "        temp_.columns = col_names_embedding\n",
    "        temp_ = temp_.astype(float)\n",
    "    \n",
    "        temp = pd.concat([temp, temp_], axis=1)\n",
    "        temp = temp.drop('embedding', axis=1)\n",
    "        \n",
    "        group_means = temp.groupby('device')[col_names_embedding].transform('mean')\n",
    "        temp['euclidean_distance'] = np.sqrt(((temp[col_names_embedding] - group_means) ** 2).sum(axis=1))\n",
    "    \n",
    "        if standardize:\n",
    "            # standardize the data on a subject basis\n",
    "            temp.residual = (temp.residual - temp.residual.mean()) / temp.residual.mean()\n",
    "            temp.euclidean_distance = (temp.euclidean_distance - temp.euclidean_distance.mean()) / temp.euclidean_distance.mean()\n",
    "            \n",
    "        df = pd.concat([df, temp])\n",
    "\n",
    "    df.groundtruth = df.groundtruth.replace({\"Normal\": 0, \"PAC\": 1, \"PVC\": 2})\n",
    "    df.reset_index(inplace=True, drop=True)\n",
    "    \n",
    "    return df"
   ]
  },
  {
   "cell_type": "code",
   "execution_count": null,
   "id": "1978bc19-e43e-4257-9bfe-00f397a8e666",
   "metadata": {},
   "outputs": [],
   "source": [
    "df_federated = load_results(\"./results/federated/\")\n",
    "df_personalized = load_results(\"./results/personalized/\")"
   ]
  },
  {
   "cell_type": "code",
   "execution_count": null,
   "id": "537dfb51-1417-48b9-8123-dae219bee966",
   "metadata": {},
   "outputs": [],
   "source": [
    "df_personalized.head()"
   ]
  },
  {
   "cell_type": "markdown",
   "id": "c7901f13-f18e-4b32-ad5c-e95a73053b13",
   "metadata": {},
   "source": [
    "## 2. Data Insights"
   ]
  },
  {
   "cell_type": "code",
   "execution_count": null,
   "id": "3a581878-1e92-44ec-8e40-5d45f537882b",
   "metadata": {},
   "outputs": [],
   "source": [
    "def plot_embedding_space(df, label=\"groundtruth\", method=\"pca\", path=\"./media/embedding.png\", fontsize=10):\n",
    "    from sklearn.manifold import TSNE\n",
    "    \n",
    "    col_names_embedding = [f'lvsd_{i+1}' for i in range(12)]\n",
    "    X = df[col_names_embedding].values\n",
    "    color = df[label]\n",
    "\n",
    "    num_samples = 50000\n",
    "    row_indices = np.random.choice(X.shape[0], num_samples, replace=True)\n",
    "    X = X[row_indices, :]\n",
    "    if method == \"tsne\":\n",
    "        algo = TSNE(n_components=2, learning_rate='auto', init='random', perplexity=3)\n",
    "    else:\n",
    "        algo = PCA(n_components=2)\n",
    "\n",
    "    X_emb = algo.fit_transform(X)\n",
    "    X_emb = pd.DataFrame(X_emb, columns=[\"A1\", \"A2\"])\n",
    "    X_emb[\"label\"] = color.values[row_indices]\n",
    "    \n",
    "    # Plotting\n",
    "    plt.figure(figsize=(5, 5))\n",
    "    palette = sns.color_palette(\"tab20\", len(df[label].unique()))\n",
    "    sns.scatterplot(data=X_emb, x=\"A1\", y=\"A2\", hue=\"label\", palette=palette, s=2, legend=False)\n",
    "    \n",
    "    # Increase fontsize of axis labels\n",
    "    plt.xlabel(\"First Embedding Axis\", fontsize=fontsize)\n",
    "    plt.ylabel(\"Second Embedding Axis\", fontsize=fontsize)\n",
    "    \n",
    "    # Increase fontsize of ticks\n",
    "    plt.xticks(fontsize=fontsize)\n",
    "    plt.yticks(fontsize=fontsize)\n",
    "    \n",
    "    # Save the figure\n",
    "    plt.savefig(path, dpi=300, bbox_inches=\"tight\")\n",
    "    plt.show()"
   ]
  },
  {
   "cell_type": "code",
   "execution_count": null,
   "id": "3d1fd1ed-7d2b-4c72-8287-dc75035e4607",
   "metadata": {},
   "outputs": [],
   "source": [
    "table = pd.pivot_table(df_federated, values='quality', index=['device'], columns=['groundtruth'], aggfunc=\"count\")"
   ]
  },
  {
   "cell_type": "code",
   "execution_count": null,
   "id": "01978821-7c26-4042-beb2-d24fba8fa842",
   "metadata": {},
   "outputs": [],
   "source": [
    "table"
   ]
  },
  {
   "cell_type": "code",
   "execution_count": null,
   "id": "5c277334-6928-48f6-a8ed-1bd98d3785a0",
   "metadata": {},
   "outputs": [],
   "source": [
    "print(\"Total ECG segments\", \"- Personalized:\", len(df_personalized), \"- Federated:\", len(df_federated))\n",
    "print(\"ECG segments normal\", \"- Personalized:\", len(df_personalized[df_personalized.groundtruth == 0]), \"- Federated:\", len(df_federated[df_federated.groundtruth == 0]))\n",
    "print(\"ECG segments PAC\", \"- Personalized:\", len(df_personalized[df_personalized.groundtruth == 1]), \"- Federated:\", len(df_federated[df_federated.groundtruth == 1]))\n",
    "print(\"ECG segments PVC\", \"- Personalized:\", len(df_personalized[df_personalized.groundtruth == 2]), \"- Federated:\", len(df_federated[df_federated.groundtruth == 2]))\n",
    "print(\"ECG segments medium quality\", \"- Personalized:\", len(df_personalized[df_personalized.quality == \"medium\"]), \"- Federated:\", len(df_federated[df_federated.quality == \"medium\"]))\n",
    "print(\"ECG segments excellent quality\", \"- Personalized:\", len(df_personalized[df_personalized.quality == \"excellent\"]), \"- Federated:\", len(df_federated[df_federated.quality == \"excellent\"]))"
   ]
  },
  {
   "cell_type": "code",
   "execution_count": null,
   "id": "50b6939c-7e85-4555-8cd6-76946a7d1ec5",
   "metadata": {},
   "outputs": [],
   "source": [
    "plot_embedding_space(df_personalized.dropna(), label=\"device\", method=\"tsne\")"
   ]
  },
  {
   "cell_type": "markdown",
   "id": "41821b80-64ac-4a87-8096-045e5cb9502f",
   "metadata": {},
   "source": [
    "## 3. Anomaly Detection"
   ]
  },
  {
   "cell_type": "code",
   "execution_count": null,
   "id": "ca83d2ae-bbc3-4cc8-93fb-68a135768e73",
   "metadata": {},
   "outputs": [],
   "source": [
    "def detect_anomalies(df, lvs_dim=12):\n",
    "\n",
    "    col_names_embedding = [f'lvsd_{i+1}' for i in range(lvs_dim)]\n",
    "    \n",
    "    y = df.dropna().groundtruth > 0\n",
    "    pred = df.dropna().euclidean_distance.abs() + df.dropna().residual\n",
    "    \n",
    "    fpr, tpr, thresholds = metrics.roc_curve(y, pred)\n",
    "    roc_auc = metrics.auc(fpr, tpr)\n",
    "\n",
    "    distances = np.sqrt((1 - tpr) ** 2 + fpr ** 2)\n",
    "    best_index = np.argmin(distances)\n",
    "    best_threshold = thresholds[best_index]\n",
    "\n",
    "    print(\"Best threshold:\", best_threshold)\n",
    "\n",
    "    return best_threshold"
   ]
  },
  {
   "cell_type": "code",
   "execution_count": null,
   "id": "3a1c18a6-5aa6-4485-b9dc-e18981c54c4c",
   "metadata": {},
   "outputs": [],
   "source": [
    "def plot_roc_curve_comparison(df_federated, df_personalized, device=None, fontsize=12, path=\"./media/roc_curve_comparison.png\"):\n",
    "    plt.figure(figsize=(5,5)).clf()\n",
    "\n",
    "    if device != None:\n",
    "        df_federated = df_federated[df_federated.device == device]\n",
    "        df_personalized = df_personalized[df_personalized.device == device]\n",
    "\n",
    "    y = df_federated.dropna().groundtruth > 0\n",
    "    pred = df_federated.dropna().residual\n",
    "    fpr, tpr, thresh = metrics.roc_curve(y, pred)\n",
    "    auc = metrics.roc_auc_score(y, pred)\n",
    "    plt.plot(fpr, tpr, label=\"Federated Res (AUC=\" + str(np.round(auc, 2)) + \")\")\n",
    "\n",
    "    \n",
    "    y = df_federated.dropna().groundtruth > 0\n",
    "    pred = df_federated.dropna().euclidean_distance.abs() + df_federated.dropna().residual\n",
    "    fpr, tpr, thresh = metrics.roc_curve(y, pred)\n",
    "    auc = metrics.roc_auc_score(y, pred)\n",
    "    plt.plot(fpr, tpr, label=\"Federated ResEmb (AUC=\" + str(np.round(auc, 2)) + \")\")\n",
    "\n",
    "    y = df_personalized.dropna().groundtruth > 0\n",
    "    pred = df_personalized.dropna().residual\n",
    "    fpr, tpr, thresh = metrics.roc_curve(y, pred)\n",
    "    auc = metrics.roc_auc_score(y, pred)\n",
    "    plt.plot(fpr, tpr, label=\"Fine-tuned Res (AUC=\" + str(np.round(auc, 2)) + \")\")\n",
    "    \n",
    "    y = df_personalized.dropna().groundtruth > 0\n",
    "    pred = df_personalized.dropna().euclidean_distance.abs() + df_personalized.dropna().residual\n",
    "    fpr, tpr, thresh = metrics.roc_curve(y, pred)\n",
    "    auc = metrics.roc_auc_score(y, pred)\n",
    "    plt.plot(fpr, tpr, label=\"Fine-tuned ResEmb (AUC=\" + str(np.round(auc, 2)) + \")\")\n",
    "\n",
    "    # Adding labels and title\n",
    "    plt.xlabel('False Positive Rate', fontsize=fontsize)\n",
    "    plt.ylabel('True Positive Rate', fontsize=fontsize)\n",
    "    #plt.title('ROC Curve Comparison', fontsize=fontsize + 2)\n",
    "    plt.legend(loc=0, fontsize=fontsize)\n",
    "\n",
    "    # Increase fontsize of ticks\n",
    "    plt.xticks(fontsize=fontsize)\n",
    "    plt.yticks(fontsize=fontsize)\n",
    "\n",
    "    # Save the plot\n",
    "    plt.savefig(path, dpi=300, bbox_inches=\"tight\")\n",
    "\n",
    "    # Show the plot\n",
    "    plt.show()"
   ]
  },
  {
   "cell_type": "code",
   "execution_count": null,
   "id": "70ad1f67-1ee7-4f4e-bbb7-dcbaa4e5ad20",
   "metadata": {},
   "outputs": [],
   "source": [
    "def plot_confusion_matrix(df, threshold, fontsize=14, path=\"./media/confusion_matrix.png\"):\n",
    "    \n",
    "    y_pred = df.residual + df.euclidean_distance.abs() > threshold\n",
    "    y_true = df.groundtruth > 0\n",
    "    df['prediction'] = y_pred\n",
    "    cm = metrics.confusion_matrix(y_true, y_pred)\n",
    "    \n",
    "    custom_labels = ['Normal', 'Anomaly']\n",
    "    plt.figure(figsize=(5, 5))\n",
    "    disp = metrics.ConfusionMatrixDisplay(confusion_matrix=cm, display_labels=custom_labels)\n",
    "    disp.plot(cmap=plt.cm.Blues)\n",
    "    plt.title('Confusion Matrix', fontsize=fontsize)\n",
    "    \n",
    "    # Increase fontsize of axis labels and ticks\n",
    "    plt.xlabel('Predicted Label', fontsize=fontsize)\n",
    "    plt.ylabel('True Label', fontsize=fontsize)\n",
    "    plt.xticks(fontsize=fontsize)\n",
    "    plt.yticks(fontsize=fontsize)\n",
    "    \n",
    "    # Increase fontsize of the text inside the confusion matrix\n",
    "    for text in disp.text_.ravel():\n",
    "        text.set_fontsize(fontsize)\n",
    "    \n",
    "    plt.savefig(path, dpi=300, bbox_inches=\"tight\")\n",
    "    plt.show()\n",
    "    \n",
    "    # Optionally, print out F1-score, specificity, and sensitivity\n",
    "    f1_score = metrics.f1_score(y_true, y_pred)\n",
    "    specificity = cm[0, 0] / (cm[0, 0] + cm[0, 1])\n",
    "    sensitivity = cm[1, 1] / (cm[1, 0] + cm[1, 1])\n",
    "    \n",
    "    print(f'F1 Score: {f1_score:.2f}')\n",
    "    print(f'Specificity: {specificity:.2f}')\n",
    "    print(f'Sensitivity: {sensitivity:.2f}')\n",
    "    \n",
    "    TN, FP, FN, TP = cm.ravel()\n",
    "\n",
    "    # Calculate Precision and Recall\n",
    "    precision = TP / (TP + FP)\n",
    "    recall = TP / (TP + FN)\n",
    "    \n",
    "    # Calculate F1 Score\n",
    "    f1_score = 2 * (precision * recall) / (precision + recall)\n",
    "    \n",
    "    # Calculate Specificity\n",
    "    specificity = TN / (TN + FP)\n",
    "    \n",
    "    print(f'Precision: {precision:.2f}')\n",
    "    print(f'Recall (Sensitivity): {recall:.2f}')\n",
    "    print(f'F1 Score: {f1_score:.2f}')\n",
    "    print(f'Specificity: {specificity:.2f}')\n",
    "    \n",
    "    return df"
   ]
  },
  {
   "cell_type": "code",
   "execution_count": null,
   "id": "61b0285b-6186-43de-a827-fd00ba8875d2",
   "metadata": {},
   "outputs": [],
   "source": [
    "plot_roc_curve_comparison(df_federated, df_personalized, fontsize=10)"
   ]
  },
  {
   "cell_type": "code",
   "execution_count": null,
   "id": "ef0e39ea-e2ec-4486-b873-73f0ea067ec7",
   "metadata": {
    "scrolled": true
   },
   "outputs": [],
   "source": [
    "for k in range(1, 21):\n",
    "    device = f\"device_{k}_ecg_data\"\n",
    "    plot_roc_curve_comparison(df_federated, df_personalized, device=device, fontsize=14)"
   ]
  },
  {
   "cell_type": "code",
   "execution_count": null,
   "id": "a14bfddb-fa20-490c-9cce-8aa5ea661ade",
   "metadata": {},
   "outputs": [],
   "source": [
    "best_threshold_personalized = detect_anomalies(df_personalized)"
   ]
  },
  {
   "cell_type": "code",
   "execution_count": null,
   "id": "e1b322e2-857c-4b93-8346-230277391c68",
   "metadata": {},
   "outputs": [],
   "source": [
    "df = plot_confusion_matrix(df_personalized, best_threshold_personalized)"
   ]
  },
  {
   "cell_type": "code",
   "execution_count": null,
   "id": "6d4cfd65-93e2-4033-9841-69c1c04e8011",
   "metadata": {},
   "outputs": [],
   "source": [
    "#PAC\n",
    "df_pac = df_personalized.loc[df_personalized.groundtruth != 2, :].reset_index(drop=True)\n",
    "path = \"./media/confusion_matrix_pac.png\"\n",
    "_ = plot_confusion_matrix(df_pac, best_threshold_personalized, path=path)"
   ]
  },
  {
   "cell_type": "code",
   "execution_count": null,
   "id": "6fc466d1-2d13-414c-8ae3-cac2ecea1071",
   "metadata": {},
   "outputs": [],
   "source": [
    "# PVC\n",
    "df_pvc = df_personalized.loc[df_personalized.groundtruth != 1, :].reset_index(drop=True)\n",
    "path = \"./media/confusion_matrix_pvc.png\"\n",
    "_ = plot_confusion_matrix(df_pvc, best_threshold_personalized, path=path)"
   ]
  },
  {
   "cell_type": "code",
   "execution_count": null,
   "id": "b71dff4a-264f-4357-8450-418d858b18c1",
   "metadata": {},
   "outputs": [],
   "source": [
    "for k in range(1, 21):\n",
    "    device = f\"device_{k}_ecg_data\"\n",
    "    best_threshold_personalized = detect_anomalies(df_personalized[df_personalized.device==device].dropna())\n",
    "    path = \"./media/confusion\" + device + \".png\"\n",
    "    df_device = df_personalized.loc[df_personalized.device==device, :].reset_index(drop=True)\n",
    "    _ = plot_confusion_matrix(df_device, best_threshold_personalized, path=path)"
   ]
  },
  {
   "cell_type": "markdown",
   "id": "627ce243-3d2f-4eba-b06f-e750d97a05c0",
   "metadata": {},
   "source": [
    "## 4. Appendix"
   ]
  },
  {
   "cell_type": "markdown",
   "id": "09f27162-da01-4fef-8561-db76c27f4d65",
   "metadata": {},
   "source": [
    "### 4.1. Federated Model\n",
    "\n",
    "Loading the weights from the federated learning process to either make predictions on ECG data or to sample ECGs from the latent vector space (though no variational autoencoders). "
   ]
  },
  {
   "cell_type": "code",
   "execution_count": null,
   "id": "0aa1cb00-0694-4cd8-bf6e-35407df24b68",
   "metadata": {},
   "outputs": [],
   "source": [
    "import torch\n",
    "from io import BytesIO\n",
    "from autoencoder import AE\n",
    "from matplotlib import pyplot as plt\n",
    "from ipywidgets import interact, interactive, fixed, interact_manual\n",
    "import ipywidgets as widgets"
   ]
  },
  {
   "cell_type": "markdown",
   "id": "76b7d7ce-013e-43e1-908c-68db7e23492d",
   "metadata": {},
   "source": [
    "Load weights and transform them into a numpy array to inject them into the shared autoencoder model."
   ]
  },
  {
   "cell_type": "code",
   "execution_count": null,
   "id": "7b7498c4-f439-47a4-a099-2b58be070310",
   "metadata": {},
   "outputs": [],
   "source": [
    "path_weights = \"../src/federated/weights/round-250-weights.npz\"\n",
    "data = np.load(path_weights, allow_pickle=True)\n",
    "parameters_serialized = data['arr_0'].item()\n",
    "pretrained_weights = [np.load(BytesIO(tensor), allow_pickle=False) for tensor in parameters_serialized.tensors]"
   ]
  },
  {
   "cell_type": "code",
   "execution_count": null,
   "id": "f89541fc-d471-4642-ba0e-90ecae792082",
   "metadata": {},
   "outputs": [],
   "source": [
    "model = AE()\n",
    "with torch.no_grad():\n",
    "    for k, name in enumerate(model.named_parameters()):\n",
    "        if k % 2 == 0:\n",
    "            param = name[1]\n",
    "            param.copy_(torch.from_numpy(pretrained_weights[int(k/2)]))"
   ]
  },
  {
   "cell_type": "markdown",
   "id": "51010a29-ea2f-4b97-8ebf-bf8c73dde44a",
   "metadata": {},
   "source": [
    "The reconstructed samples of the autoencoder optimized by the federated learning routine tend to be noisy. Therefore, we introduce a simple smoothing function."
   ]
  },
  {
   "cell_type": "code",
   "execution_count": null,
   "id": "0e038a3b-5d95-49d1-a763-c58b130dc633",
   "metadata": {},
   "outputs": [],
   "source": [
    "def moving_average(signal, window_size):\n",
    "    window = np.ones(int(window_size))/float(window_size)\n",
    "    return np.convolve(signal, window, 'same')"
   ]
  },
  {
   "cell_type": "markdown",
   "id": "1acce104-f43a-49a6-a0a9-72452f02452b",
   "metadata": {},
   "source": [
    "Systematically toggling the values in the latent vector space is used to analyze the change in the reconstruction and thus possibly give the dimensions an interpretation."
   ]
  },
  {
   "cell_type": "code",
   "execution_count": null,
   "id": "111dbfbf-0480-476f-9ace-7639f9218017",
   "metadata": {},
   "outputs": [],
   "source": [
    "def f(val, dim):\n",
    "    # a randomly chosen encoding from the df_personalized dataframe\n",
    "    embedding = [0.97, -1.57, 3.55, 3.67, -1.82, 3.61, -0.53, -2.51, 4.461, 2.12, 4.73, -0.74]\n",
    "    my_tensor = torch.tensor(embedding, dtype=torch.float32)\n",
    "    my_tensor[dim] = val\n",
    "    reconstruction = moving_average(model.decoder(my_tensor).detach().numpy(), 10)\n",
    "    plt.plot(reconstruction)"
   ]
  },
  {
   "cell_type": "code",
   "execution_count": null,
   "id": "1ca3b07c-ac9b-417c-8fa9-0419864f414e",
   "metadata": {},
   "outputs": [],
   "source": [
    "floatSlider = widgets.FloatSlider(min=-10, max=10, step=0.1, value=0)"
   ]
  },
  {
   "cell_type": "code",
   "execution_count": null,
   "id": "1c223bb1-2d2f-4096-af09-611ab8cd622e",
   "metadata": {},
   "outputs": [],
   "source": [
    "interact(f, val=floatSlider, dim=[0, 1, 2, 3, 4, 5, 6, 7, 8, 9, 10, 11])"
   ]
  },
  {
   "cell_type": "code",
   "execution_count": null,
   "id": "b75af674-2a2a-4cf9-9710-73b6c1693b99",
   "metadata": {},
   "outputs": [],
   "source": [
    "embedding = [0.97, -1.57, 3.55, 3.67, -1.82, 3.61, -0.53, -2.51, 4.461, 2.12, 4.73, -0.74]\n",
    "     \n",
    "my_tensor = torch.tensor(embedding, dtype=torch.float32)\n",
    "lvs_dim = 1\n",
    "for k in range(lvs_dim, (lvs_dim+1)):\n",
    "    for j in np.linspace(-2, 2, 5):\n",
    "        my_tensor[k] = j\n",
    "        # apply a smoothin operation to gain denoised signals\n",
    "        recpnstruction = moving_average(model.decoder(my_tensor).detach().numpy(), 10)\n",
    "        plt.plot(recpnstruction)"
   ]
  },
  {
   "cell_type": "markdown",
   "id": "3b38b3a8-526e-40a8-b594-5c43edfafb35",
   "metadata": {},
   "source": [
    "### 4.2. Sample Data Plot\n",
    "\n",
    "To include a visual data example in the respective article, a suitable example is loaded from the Icentia11k dataset and the three relevant label classes (normal, PAC, PVC) and the corresponding ECGs are plotted."
   ]
  },
  {
   "cell_type": "code",
   "execution_count": null,
   "id": "868e7f23-86f3-4c27-ab6b-bf160209d9f8",
   "metadata": {},
   "outputs": [],
   "source": [
    "# this sample needs to be downloaded manually\n",
    "df_plot = pd.read_csv(\"./sample/p03984_24.csv\")"
   ]
  },
  {
   "cell_type": "code",
   "execution_count": null,
   "id": "5727e034-7fd2-4e62-ab23-29b9efc27e83",
   "metadata": {},
   "outputs": [],
   "source": [
    "index_pac = df_plot[df_plot.annotation == \"pac\"].index\n",
    "index_pvc = df_plot[df_plot.annotation == \"pvc\"].index\n",
    "index_normal = df_plot[df_plot.annotation == \"normal\"].index"
   ]
  },
  {
   "cell_type": "code",
   "execution_count": null,
   "id": "62de4f43-2f14-4b55-b2ce-b2ed2da8edc8",
   "metadata": {},
   "outputs": [],
   "source": [
    "values_pac = df_plot.iloc[(index_pac[2]-125):(index_pac[2]+125), 0].reset_index(drop=True).reset_index()\n",
    "values_pvc = df_plot.iloc[(index_pvc[2]-125):(index_pvc[2]+125), 0].reset_index(drop=True).reset_index()\n",
    "values_normal = df_plot.iloc[(index_normal[2]-125):(index_normal[2]+125), 0].reset_index(drop=True).reset_index()"
   ]
  },
  {
   "cell_type": "code",
   "execution_count": null,
   "id": "1693ccea-ddb7-499a-ad2f-a69fda993f0a",
   "metadata": {},
   "outputs": [],
   "source": [
    "values_pac[\"annotation\"] = \"PAC\"\n",
    "values_pvc[\"annotation\"] = \"PVC\"\n",
    "values_normal[\"annotation\"] = \"Normal\""
   ]
  },
  {
   "cell_type": "code",
   "execution_count": null,
   "id": "dcce6dee-9e73-4143-9687-a76f902bec25",
   "metadata": {},
   "outputs": [],
   "source": [
    "values = pd.concat([values_pac, values_pvc, values_normal])"
   ]
  },
  {
   "cell_type": "code",
   "execution_count": null,
   "id": "f4538bc6-1b6d-48b3-8742-5a453dc39ede",
   "metadata": {},
   "outputs": [],
   "source": [
    "custom_texts = {\n",
    "    'PAC': 'PAC',\n",
    "    'PVC': 'PVC',\n",
    "    'Normal': 'Normal'\n",
    "}\n",
    "\n",
    "palette = sns.color_palette(\"husl\", len(values['annotation'].unique()))\n",
    "g = sns.FacetGrid(values, row=\"annotation\", aspect=5, height=2, despine=False, palette=palette)\n",
    "g.map_dataframe(sns.lineplot, x=\"index\", y=\"signal\", hue=\"annotation\", palette=palette)\n",
    "\n",
    "for ax, annotation in zip(g.axes.flatten(), custom_texts.keys()):\n",
    "    ax.set_ylabel('')\n",
    "    ax.set_xlabel('')\n",
    "    ax.tick_params(left=False, bottom=False)\n",
    "    ax.get_yaxis().set_visible(False)\n",
    "    ax.get_xaxis().set_visible(False)\n",
    "    ax.set_title('')\n",
    "    for spine in ax.spines.values():\n",
    "        spine.set_visible(False)\n",
    "    \n",
    "    x_position = 135\n",
    "    y_position = values[values['annotation'] == annotation]['signal'].mean() + 0.2\n",
    "    ax.text(x_position, y_position, custom_texts[annotation], verticalalignment='center', fontsize=14)\n",
    "    \n",
    "g.fig.subplots_adjust(hspace=0)\n",
    "\n",
    "g.savefig('./media/data.png', dpi=300, bbox_inches=\"tight\")\n",
    "plt.show()"
   ]
  },
  {
   "cell_type": "code",
   "execution_count": null,
   "id": "55bb6aa7-e11c-482c-a3c2-e95acdd66627",
   "metadata": {},
   "outputs": [],
   "source": [
    "import torch\n",
    "from io import BytesIO\n",
    "from autoencoder import AE\n",
    "from matplotlib import pyplot as plt\n",
    "from ipywidgets import interact, interactive, fixed, interact_manual\n",
    "import ipywidgets as widgets"
   ]
  },
  {
   "cell_type": "code",
   "execution_count": null,
   "id": "bbcf8974-05fb-4d3d-b2d5-e67e25578e6d",
   "metadata": {},
   "outputs": [],
   "source": [
    "data = np.load(\"../src/federated/weights/round-250-weights.npz\", allow_pickle=True)\n",
    "parameters_serialized = data['arr_0'].item()\n",
    "pretrained_weights = [np.load(BytesIO(tensor), allow_pickle=False) for tensor in parameters_serialized.tensors]x"
   ]
  },
  {
   "cell_type": "code",
   "execution_count": null,
   "id": "d54477bb-c472-4094-ad63-3a674f4d3f7a",
   "metadata": {},
   "outputs": [],
   "source": [
    "model = AE()\n",
    "with torch.no_grad():\n",
    "    for k, name in enumerate(model.named_parameters()):\n",
    "        if k % 2 == 0:\n",
    "            param = name[1]\n",
    "            #print(param.shape)\n",
    "            #print(pretrained_weights[int(k/2)].shape)\n",
    "            param.copy_(torch.from_numpy(pretrained_weights[int(k/2)]))"
   ]
  },
  {
   "cell_type": "code",
   "execution_count": null,
   "id": "2eafe614-2333-4e2f-986d-5b243cb9fddd",
   "metadata": {},
   "outputs": [],
   "source": [
    "def f(val, dim):\n",
    "    a = [8.160960,2.347583,9.026686,3.429941,5.890089,-5.662026,0.545231,-4.219695,-2.919463,-8.039228,6.781175,1.928730]\n",
    "    #my_tensor = torch.tensor(np.ones(12), dtype=torch.float32)\n",
    "    my_tensor = torch.tensor(a, dtype=torch.float32)\n",
    "    my_tensor[dim] = val\n",
    "    plt.plot(model.decoder(my_tensor).detach().numpy())"
   ]
  },
  {
   "cell_type": "code",
   "execution_count": null,
   "id": "9b83ef8e-8910-420d-9569-fdefc22f9b7d",
   "metadata": {},
   "outputs": [],
   "source": [
    "floatSlider = widgets.FloatSlider(min=-10, max=10, step=0.1, value=0)"
   ]
  },
  {
   "cell_type": "code",
   "execution_count": null,
   "id": "da3c8a18-d7d4-41eb-9da2-aea51b4d855f",
   "metadata": {},
   "outputs": [],
   "source": [
    "interact(f, val=floatSlider, dim=[0, 1, 2, 3, 4, 5, 6, 7, 8, 9, 10, 11])"
   ]
  },
  {
   "cell_type": "code",
   "execution_count": null,
   "id": "7613b55d-c031-4a95-9d61-445d13ee87cf",
   "metadata": {},
   "outputs": [],
   "source": [
    "a = [8.160960,2.347583,9.026686,3.429941,5.890089,-5.662026,0.545231,-4.219695,-2.919463,-8.039228,6.781175,1.928730]\n",
    "my_tensor = torch.tensor(a, dtype=torch.float32)\n",
    "u = 9\n",
    "for k in range(u,(u+1)):\n",
    "    for j in np.linspace(-10, 10, 5):\n",
    "        my_tensor[k] = j\n",
    "        plt.plot(model.decoder(my_tensor).detach().numpy())"
   ]
  },
  {
   "cell_type": "code",
   "execution_count": null,
   "id": "5496635d-3294-4732-bbe1-c7e51758e144",
   "metadata": {},
   "outputs": [],
   "source": [
    "import seaborn as sns\n",
    "from matplotlib import pyplot as plt"
   ]
  },
  {
   "cell_type": "code",
   "execution_count": null,
   "id": "618c593e-6bab-4833-befc-fe4dc3be6505",
   "metadata": {},
   "outputs": [],
   "source": [
    "df_plot = pd.read_csv(\"./sample/p03984_24.csv\")"
   ]
  },
  {
   "cell_type": "code",
   "execution_count": null,
   "id": "d33841ee-c19f-4fb9-83ec-38b3cdd3b1e1",
   "metadata": {},
   "outputs": [],
   "source": [
    "index_pac = df_plot[df_plot.annotation == \"pac\"].index\n",
    "index_pvc = df_plot[df_plot.annotation == \"pvc\"].index\n",
    "index_normal = df_plot[df_plot.annotation == \"normal\"].index"
   ]
  },
  {
   "cell_type": "code",
   "execution_count": null,
   "id": "373c704a-e344-4105-b03e-29bfdaa4f769",
   "metadata": {},
   "outputs": [],
   "source": [
    "values_pac = df_plot.iloc[(index_pac[2]-125):(index_pac[2]+125), 0].reset_index(drop=True).reset_index()\n",
    "values_pvc = df_plot.iloc[(index_pvc[2]-125):(index_pvc[2]+125), 0].reset_index(drop=True).reset_index()\n",
    "values_normal = df_plot.iloc[(index_normal[2]-125):(index_normal[2]+125), 0].reset_index(drop=True).reset_index()"
   ]
  },
  {
   "cell_type": "code",
   "execution_count": null,
   "id": "2ff39fab-71e9-4543-adbf-395c8c4480cb",
   "metadata": {},
   "outputs": [],
   "source": [
    "values_pac[\"annotation\"] = \"PAC\"\n",
    "values_pvc[\"annotation\"] = \"PVC\"\n",
    "values_normal[\"annotation\"] = \"Normal\""
   ]
  },
  {
   "cell_type": "code",
   "execution_count": null,
   "id": "8ca732a6-33dc-4882-b92f-5e5a31e0b694",
   "metadata": {},
   "outputs": [],
   "source": [
    "values = pd.concat([values_pac, values_pvc, values_normal])"
   ]
  },
  {
   "cell_type": "code",
   "execution_count": null,
   "id": "9e735574-39c0-4765-b803-6ae7d0eeca10",
   "metadata": {},
   "outputs": [],
   "source": [
    "custom_texts = {\n",
    "    'PAC': 'PAC',\n",
    "    'PVC': 'PVC',\n",
    "    'Normal': 'Normal'\n",
    "}\n",
    "\n",
    "# Create the FacetGrid with unique colors for each annotation\n",
    "palette = sns.color_palette(\"husl\", len(values['annotation'].unique()))\n",
    "g = sns.FacetGrid(values, row=\"annotation\", aspect=5, height=2, despine=False, palette=palette)\n",
    "g.map_dataframe(sns.lineplot, x=\"index\", y=\"signal\", hue=\"annotation\", palette=palette)\n",
    "\n",
    "# Remove the y-axis, x-axis, annotation labels, and bounding box\n",
    "for ax, annotation in zip(g.axes.flatten(), custom_texts.keys()):\n",
    "    ax.set_ylabel('')\n",
    "    ax.set_xlabel('')\n",
    "    ax.tick_params(left=False, bottom=False)\n",
    "    ax.get_yaxis().set_visible(False)\n",
    "    ax.get_xaxis().set_visible(False)\n",
    "    ax.set_title('')\n",
    "    for spine in ax.spines.values():\n",
    "        spine.set_visible(False)\n",
    "    \n",
    "    x_position = 135\n",
    "    y_position = values[values['annotation'] == annotation]['signal'].mean() + 0.2\n",
    "    ax.text(x_position, y_position, custom_texts[annotation], verticalalignment='center', fontsize=14)\n",
    "    \n",
    "g.fig.subplots_adjust(hspace=0)\n",
    "\n",
    "g.savefig('./media/data.png', dpi=300, bbox_inches=\"tight\")\n",
    "plt.show()"
   ]
  },
  {
   "cell_type": "code",
   "execution_count": null,
   "id": "77004ff9-91cf-45b2-9ef5-0b39e38542d9",
   "metadata": {},
   "outputs": [],
   "source": []
  }
 ],
 "metadata": {
  "kernelspec": {
   "display_name": "Python 3 (ipykernel)",
   "language": "python",
   "name": "python3"
  },
  "language_info": {
   "codemirror_mode": {
    "name": "ipython",
    "version": 3
   },
   "file_extension": ".py",
   "mimetype": "text/x-python",
   "name": "python",
   "nbconvert_exporter": "python",
   "pygments_lexer": "ipython3",
   "version": "3.10.14"
  }
 },
 "nbformat": 4,
 "nbformat_minor": 5
}
